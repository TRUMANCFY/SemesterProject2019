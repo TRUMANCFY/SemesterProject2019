{
 "cells": [
  {
   "cell_type": "markdown",
   "metadata": {},
   "source": [
    "## Multi-document Summarization using Tensor Decomposition"
   ]
  },
  {
   "cell_type": "markdown",
   "metadata": {},
   "source": [
    "### 1.Introduction\n",
    "This notebook is a recurrance of the method of test labelling mentioned in the paper [http://www.scielo.org.mx/pdf/cys/v18n3/v18n3a12.pdf]\n",
    "\n",
    "There is mainly following steps mentioned in this notebook：\n",
    "- data extraction and pre-processing\n",
    "- tensor construction\n",
    "- tensor decomposition"
   ]
  },
  {
   "cell_type": "markdown",
   "metadata": {},
   "source": [
    "### 2. data extraction and pre-processing"
   ]
  },
  {
   "cell_type": "markdown",
   "metadata": {},
   "source": [
    "##### 2.1 Data extraction"
   ]
  },
  {
   "cell_type": "code",
   "execution_count": 1,
   "metadata": {},
   "outputs": [],
   "source": [
    "topics = ['computer', 'sport', 'politics', 'entertainment', 'science']"
   ]
  },
  {
   "cell_type": "code",
   "execution_count": 1,
   "metadata": {},
   "outputs": [
    {
     "ename": "NameError",
     "evalue": "name 'os' is not defined",
     "output_type": "error",
     "traceback": [
      "\u001b[0;31m---------------------------------------------------------------------------\u001b[0m",
      "\u001b[0;31mNameError\u001b[0m                                 Traceback (most recent call last)",
      "\u001b[0;32m<ipython-input-1-8e88f580f7d0>\u001b[0m in \u001b[0;36m<module>\u001b[0;34m\u001b[0m\n\u001b[0;32m----> 1\u001b[0;31m \u001b[0mos\u001b[0m\u001b[0;34m.\u001b[0m\u001b[0mmkdir\u001b[0m\u001b[0;34m(\u001b[0m\u001b[0;34m'data'\u001b[0m\u001b[0;34m)\u001b[0m\u001b[0;34m\u001b[0m\u001b[0;34m\u001b[0m\u001b[0m\n\u001b[0m\u001b[1;32m      2\u001b[0m \u001b[0;32mfor\u001b[0m \u001b[0mt\u001b[0m \u001b[0;32min\u001b[0m \u001b[0mtopics\u001b[0m\u001b[0;34m:\u001b[0m\u001b[0;34m\u001b[0m\u001b[0;34m\u001b[0m\u001b[0m\n\u001b[1;32m      3\u001b[0m     \u001b[0mos\u001b[0m\u001b[0;34m.\u001b[0m\u001b[0mmakedirs\u001b[0m\u001b[0;34m(\u001b[0m\u001b[0mos\u001b[0m\u001b[0;34m.\u001b[0m\u001b[0mpath\u001b[0m\u001b[0;34m.\u001b[0m\u001b[0mjoin\u001b[0m\u001b[0;34m(\u001b[0m\u001b[0;34m'data'\u001b[0m\u001b[0;34m,\u001b[0m \u001b[0mt\u001b[0m\u001b[0;34m)\u001b[0m\u001b[0;34m)\u001b[0m\u001b[0;34m\u001b[0m\u001b[0;34m\u001b[0m\u001b[0m\n",
      "\u001b[0;31mNameError\u001b[0m: name 'os' is not defined"
     ]
    }
   ],
   "source": [
    "os.mkdir('data')\n",
    "for t in topics:\n",
    "    os.makedirs(os.path.join('data', t))"
   ]
  },
  {
   "cell_type": "code",
   "execution_count": 2,
   "metadata": {},
   "outputs": [],
   "source": [
    "import wikipediaapi as wikiapi\n",
    "import wikipedia as wiki\n",
    "import numpy as np\n",
    "import nltk\n",
    "import os\n",
    "import time"
   ]
  },
  {
   "cell_type": "code",
   "execution_count": 3,
   "metadata": {},
   "outputs": [],
   "source": [
    "wiki_api = wikiapi.Wikipedia('en')"
   ]
  },
  {
   "cell_type": "code",
   "execution_count": 4,
   "metadata": {},
   "outputs": [
    {
     "name": "stdout",
     "output_type": "stream",
     "text": [
      "entertainment\n",
      "science\n"
     ]
    }
   ],
   "source": [
    "topic_dict = {}\n",
    "for t in topics:\n",
    "    print(t)\n",
    "    tag = True\n",
    "    while tag:\n",
    "        try:\n",
    "            time.sleep(1)\n",
    "            topic_dict[t] = wiki.search(t)\n",
    "            tag = False\n",
    "        except:\n",
    "            continue"
   ]
  },
  {
   "cell_type": "code",
   "execution_count": 5,
   "metadata": {},
   "outputs": [
    {
     "name": "stdout",
     "output_type": "stream",
     "text": [
      "Entertainment\n",
      "Entertainment!\n",
      "YG Entertainment\n",
      "JYP Entertainment\n",
      "SM Entertainment\n",
      "WWE\n",
      "Yuehua Entertainment\n",
      "Coridel Entertainment\n",
      "Sony Entertainment\n",
      "InXile Entertainment\n",
      "Science\n",
      "Science (disambiguation)\n"
     ]
    },
    {
     "name": "stderr",
     "output_type": "stream",
     "text": [
      "/Users/caifengyu/anaconda3/lib/python3.6/site-packages/wikipedia/wikipedia.py:389: UserWarning: No parser was explicitly specified, so I'm using the best available HTML parser for this system (\"lxml\"). This usually isn't a problem, but if you run this code on another system, or in a different virtual environment, it may use a different parser and behave differently.\n",
      "\n",
      "The code that caused this warning is on line 389 of the file /Users/caifengyu/anaconda3/lib/python3.6/site-packages/wikipedia/wikipedia.py. To get rid of this warning, pass the additional argument 'features=\"lxml\"' to the BeautifulSoup constructor.\n",
      "\n",
      "  lis = BeautifulSoup(html).find_all('li')\n"
     ]
    },
    {
     "name": "stdout",
     "output_type": "stream",
     "text": [
      "Natural science\n",
      "Science fiction\n",
      "Social science\n",
      "Forensic science\n",
      "Political science\n",
      "Rocket science\n",
      "Branches of science\n",
      "Computer science\n"
     ]
    }
   ],
   "source": [
    "for tk, tv in topic_dict.items():\n",
    "    for pageName in tv:\n",
    "        print(pageName)\n",
    "        tag = True\n",
    "        cnt = 0\n",
    "        while tag:\n",
    "            try:\n",
    "                pageTmp = wiki.page(pageName)\n",
    "                pageContent = pageTmp.content\n",
    "                with open(os.path.join(os.path.join('data', tk), pageName + '.txt'), 'w') as w:\n",
    "                    w.write(pageContent)\n",
    "                tag = False\n",
    "            except:\n",
    "                cnt += 1\n",
    "                if cnt < 10:\n",
    "                    continue\n",
    "                else:\n",
    "                    break"
   ]
  },
  {
   "cell_type": "markdown",
   "metadata": {},
   "source": [
    "##### 2.2 Data Preprocessing"
   ]
  },
  {
   "cell_type": "markdown",
   "metadata": {},
   "source": [
    "In this part, we will preprocess our data:\n",
    "- split the sentence\n",
    "- remove the stopwords\n",
    "- word stemming"
   ]
  },
  {
   "cell_type": "markdown",
   "metadata": {},
   "source": [
    "##### 2.2.1 Split the sentence"
   ]
  },
  {
   "cell_type": "code",
   "execution_count": 3,
   "metadata": {},
   "outputs": [],
   "source": [
    "def sentenceSplit(inputContent):\n",
    "    res = nltk.sent_tokenize(inputContent)\n",
    "    res_filter = [i for i in res if len(i) > 10]\n",
    "    return res_filter"
   ]
  },
  {
   "cell_type": "code",
   "execution_count": 4,
   "metadata": {},
   "outputs": [],
   "source": [
    "text_dict = {}\n",
    "for tp in topics:\n",
    "    fileNames = os.listdir(os.path.join('data/', tp))\n",
    "    for fileName in fileNames:\n",
    "        with open(os.path.join(os.path.join('data', tp), fileName)) as f:\n",
    "            text_dict[fileName] = sentenceSplit(f.read())"
   ]
  },
  {
   "cell_type": "markdown",
   "metadata": {},
   "source": [
    "##### 2.2.2 Remove the stop words and word stemming"
   ]
  },
  {
   "cell_type": "code",
   "execution_count": 5,
   "metadata": {},
   "outputs": [],
   "source": [
    "# get the stopwords\n",
    "from nltk.corpus import stopwords\n",
    "from nltk.tokenize import RegexpTokenizer\n",
    "from collections import defaultdict\n",
    "from nltk.stem.porter import PorterStemmer\n",
    "stop_words = set(stopwords.words('english'))\n",
    "stemmer = PorterStemmer()"
   ]
  },
  {
   "cell_type": "code",
   "execution_count": 6,
   "metadata": {},
   "outputs": [],
   "source": [
    "def sentenceRemoveStopwords(inputSentence):\n",
    "    \"\"\"\n",
    "        input: the string of input\n",
    "        output: list of stemmed tokens\n",
    "    \"\"\"\n",
    "    # lowercase\n",
    "    inputLower = inputSentence.lower()\n",
    "    # get the word and remove the punctuation\n",
    "    regTokenizer = RegexpTokenizer(r'\\w+')\n",
    "    tokens_filter = [t for t in regTokenizer.tokenize(inputLower) if t not in stop_words]\n",
    "    # stem the word\n",
    "    tokens_stemmer = [stemmer.stem(t) for t in tokens_filter]\n",
    "    return tokens_stemmer"
   ]
  },
  {
   "cell_type": "code",
   "execution_count": 7,
   "metadata": {},
   "outputs": [],
   "source": [
    "wordTokens = defaultdict(list)\n",
    "for fileName, text in text_dict.items():\n",
    "    for sen in text:\n",
    "        wordTokens[fileName].append(sentenceRemoveStopwords(sen))"
   ]
  },
  {
   "cell_type": "markdown",
   "metadata": {},
   "source": [
    "### 3 Topic Generation"
   ]
  },
  {
   "cell_type": "code",
   "execution_count": 8,
   "metadata": {},
   "outputs": [],
   "source": [
    "from gensim import corpora\n",
    "import gensim"
   ]
  },
  {
   "cell_type": "code",
   "execution_count": 9,
   "metadata": {},
   "outputs": [],
   "source": [
    "# get the complete textual data set\n",
    "text_complete = [[word for sent in sents for word in sent] for sents in wordTokens.values()]"
   ]
  },
  {
   "cell_type": "code",
   "execution_count": 10,
   "metadata": {},
   "outputs": [],
   "source": [
    "dictionary = corpora.Dictionary(text_complete)"
   ]
  },
  {
   "cell_type": "code",
   "execution_count": 11,
   "metadata": {},
   "outputs": [],
   "source": [
    "bag_of_word = [dictionary.doc2bow(text) for text in text_complete]"
   ]
  },
  {
   "cell_type": "code",
   "execution_count": 12,
   "metadata": {},
   "outputs": [],
   "source": [
    "NUM_TOPIC = 5\n",
    "ldamodel = gensim.models.ldamodel.LdaModel(corpus=bag_of_word, num_topics=NUM_TOPIC, id2word=dictionary, passes=15)"
   ]
  },
  {
   "cell_type": "code",
   "execution_count": 13,
   "metadata": {},
   "outputs": [
    {
     "name": "stdout",
     "output_type": "stream",
     "text": [
      "(0, '0.022*\"entertain\" + 0.016*\"polit\" + 0.013*\"parti\" + 0.008*\"form\" + 0.007*\"social\"')\n",
      "(1, '0.013*\"wwe\" + 0.013*\"graphic\" + 0.011*\"entertain\" + 0.009*\"marvel\" + 0.008*\"compani\"')\n",
      "(2, '0.028*\"comput\" + 0.024*\"scienc\" + 0.010*\"use\" + 0.007*\"program\" + 0.007*\"studi\"')\n",
      "(3, '0.031*\"sport\" + 0.009*\"psycholog\" + 0.008*\"athlet\" + 0.007*\"sm\" + 0.006*\"entertain\"')\n",
      "(4, '0.019*\"network\" + 0.010*\"secur\" + 0.009*\"use\" + 0.008*\"system\" + 0.008*\"comput\"')\n"
     ]
    }
   ],
   "source": [
    "topic_select = ldamodel.print_topics(num_words=5)\n",
    "for tp in topic_select:\n",
    "    print(tp)"
   ]
  },
  {
   "cell_type": "code",
   "execution_count": 14,
   "metadata": {},
   "outputs": [],
   "source": [
    "sent_complete = [sent for sents in wordTokens.values() for sent in sents]"
   ]
  },
  {
   "cell_type": "code",
   "execution_count": 15,
   "metadata": {},
   "outputs": [],
   "source": [
    "dictionary_sent = corpora.Dictionary(sent_complete)"
   ]
  },
  {
   "cell_type": "code",
   "execution_count": 16,
   "metadata": {},
   "outputs": [],
   "source": [
    "bag_of_word_sent = [dictionary_sent.doc2bow(text) for text in sent_complete]"
   ]
  },
  {
   "cell_type": "code",
   "execution_count": 18,
   "metadata": {},
   "outputs": [],
   "source": [
    "NUM_TOPIC = 5\n",
    "ldamodel_sent = gensim.models.ldamodel.LdaModel(corpus=bag_of_word_sent, num_topics=NUM_TOPIC, id2word=dictionary_sent, passes=15)"
   ]
  },
  {
   "cell_type": "code",
   "execution_count": 19,
   "metadata": {},
   "outputs": [
    {
     "data": {
      "text/plain": [
       "[(0,\n",
       "  '0.043*\"scienc\" + 0.019*\"comput\" + 0.015*\"social\" + 0.012*\"natur\" + 0.011*\"studi\"'),\n",
       " (1,\n",
       "  '0.015*\"network\" + 0.010*\"use\" + 0.010*\"sport\" + 0.009*\"parti\" + 0.008*\"psycholog\"'),\n",
       " (2,\n",
       "  '0.019*\"fiction\" + 0.008*\"form\" + 0.008*\"knowledg\" + 0.007*\"audienc\" + 0.007*\"film\"'),\n",
       " (3,\n",
       "  '0.028*\"entertain\" + 0.010*\"wwe\" + 0.010*\"sport\" + 0.007*\"game\" + 0.006*\"year\"'),\n",
       " (4,\n",
       "  '0.010*\"group\" + 0.010*\"entertain\" + 0.010*\"marvel\" + 0.008*\"new\" + 0.006*\"polit\"')]"
      ]
     },
     "execution_count": 19,
     "metadata": {},
     "output_type": "execute_result"
    }
   ],
   "source": [
    "topic_select_sent = ldamodel_sent.print_topics(num_words=5)\n",
    "topic_select_sent"
   ]
  },
  {
   "cell_type": "markdown",
   "metadata": {},
   "source": [
    "### 4.Tensor Construction"
   ]
  },
  {
   "cell_type": "markdown",
   "metadata": {},
   "source": [
    "##### 4.1 build up the topic-term mapping"
   ]
  },
  {
   "cell_type": "code",
   "execution_count": 20,
   "metadata": {},
   "outputs": [
    {
     "data": {
      "text/plain": [
       "10493"
      ]
     },
     "execution_count": 20,
     "metadata": {},
     "output_type": "execute_result"
    }
   ],
   "source": [
    "num_of_terms = len(dictionary.id2token.keys())\n",
    "num_of_terms"
   ]
  },
  {
   "cell_type": "code",
   "execution_count": 21,
   "metadata": {},
   "outputs": [
    {
     "data": {
      "text/plain": [
       "5"
      ]
     },
     "execution_count": 21,
     "metadata": {},
     "output_type": "execute_result"
    }
   ],
   "source": [
    "num_of_topics = len(topic_select_sent)\n",
    "num_of_topics"
   ]
  },
  {
   "cell_type": "code",
   "execution_count": 22,
   "metadata": {},
   "outputs": [
    {
     "data": {
      "text/plain": [
       "44"
      ]
     },
     "execution_count": 22,
     "metadata": {},
     "output_type": "execute_result"
    }
   ],
   "source": [
    "num_of_doc = len(text_complete)\n",
    "num_of_doc"
   ]
  },
  {
   "cell_type": "code",
   "execution_count": 23,
   "metadata": {},
   "outputs": [],
   "source": [
    "# get the map between topics and terms\n",
    "topic_term_mapping = np.zeros((num_of_terms, num_of_topics))"
   ]
  },
  {
   "cell_type": "code",
   "execution_count": 24,
   "metadata": {},
   "outputs": [
    {
     "data": {
      "text/plain": [
       "<gensim.corpora.dictionary.Dictionary at 0x1a148b46d8>"
      ]
     },
     "execution_count": 24,
     "metadata": {},
     "output_type": "execute_result"
    }
   ],
   "source": [
    "dictionary_sent"
   ]
  },
  {
   "cell_type": "code",
   "execution_count": 25,
   "metadata": {},
   "outputs": [],
   "source": [
    "thresh_tp = 0.7\n",
    "for sent in sent_complete:\n",
    "    word_inds = dictionary_sent.doc2bow(sent)\n",
    "    topic_prob = ldamodel_sent.get_document_topics(word_inds)\n",
    "    for tp_prob in topic_prob:\n",
    "        if tp_prob[1] > thresh_tp:\n",
    "            for word_ind in word_inds:\n",
    "                topic_term_mapping[word_ind[0], tp_prob[0]] = 1"
   ]
  },
  {
   "cell_type": "code",
   "execution_count": 26,
   "metadata": {
    "scrolled": true
   },
   "outputs": [
    {
     "data": {
      "text/plain": [
       "52465"
      ]
     },
     "execution_count": 26,
     "metadata": {},
     "output_type": "execute_result"
    }
   ],
   "source": [
    "# the total number of entry in topic_term_mapping\n",
    "num_of_terms * num_of_topics"
   ]
  },
  {
   "cell_type": "code",
   "execution_count": 27,
   "metadata": {
    "scrolled": true
   },
   "outputs": [
    {
     "data": {
      "text/plain": [
       "10488.0"
      ]
     },
     "execution_count": 27,
     "metadata": {},
     "output_type": "execute_result"
    }
   ],
   "source": [
    "# the valid entry of topic_term_mapping\n",
    "np.sum(topic_term_mapping)"
   ]
  },
  {
   "cell_type": "markdown",
   "metadata": {},
   "source": [
    "##### 4.2 build up tf-idf mapping"
   ]
  },
  {
   "cell_type": "code",
   "execution_count": 28,
   "metadata": {},
   "outputs": [],
   "source": [
    "from gensim.models import TfidfModel"
   ]
  },
  {
   "cell_type": "code",
   "execution_count": 29,
   "metadata": {},
   "outputs": [],
   "source": [
    "tfidfModel = TfidfModel(dictionary=dictionary, corpus=bag_of_word)"
   ]
  },
  {
   "cell_type": "markdown",
   "metadata": {},
   "source": [
    "##### 4.3 passage index to sentence index"
   ]
  },
  {
   "cell_type": "code",
   "execution_count": 30,
   "metadata": {},
   "outputs": [],
   "source": [
    "passage_ind_to_sent_ind = lambda x: dictionary_sent.token2id[dictionary.id2token[x]]"
   ]
  },
  {
   "cell_type": "code",
   "execution_count": 31,
   "metadata": {},
   "outputs": [],
   "source": [
    "sent_ind_to_passage_ind = lambda x: dictionary.token2id[dictionary_sent.id2token[x]]"
   ]
  },
  {
   "cell_type": "markdown",
   "metadata": {},
   "source": [
    "##### 4.4 tensor construction"
   ]
  },
  {
   "cell_type": "code",
   "execution_count": 32,
   "metadata": {},
   "outputs": [],
   "source": [
    "def fillTFIDF(idxList):\n",
    "    res = np.zeros((num_of_terms))\n",
    "    for idx, val in idxList:\n",
    "        res[idx] = val\n",
    "    return res"
   ]
  },
  {
   "cell_type": "code",
   "execution_count": 33,
   "metadata": {},
   "outputs": [],
   "source": [
    "tensor_res = np.zeros((num_of_doc, num_of_topics, num_of_terms))"
   ]
  },
  {
   "cell_type": "code",
   "execution_count": 34,
   "metadata": {},
   "outputs": [],
   "source": [
    "topic_term_mapping_transfer = np.zeros((num_of_terms, num_of_topics))\n",
    "for idx_term in range(num_of_terms):\n",
    "    transfered_ind = sent_ind_to_passage_ind(idx_term)\n",
    "    for idx_topic in range(num_of_topics):\n",
    "        if topic_term_mapping[transfered_ind, idx_topic]:\n",
    "            topic_term_mapping_transfer[idx_term, idx_topic] = 1"
   ]
  },
  {
   "cell_type": "code",
   "execution_count": 35,
   "metadata": {},
   "outputs": [
    {
     "data": {
      "text/plain": [
       "44"
      ]
     },
     "execution_count": 35,
     "metadata": {},
     "output_type": "execute_result"
    }
   ],
   "source": [
    "len(text_complete)"
   ]
  },
  {
   "cell_type": "code",
   "execution_count": 36,
   "metadata": {},
   "outputs": [],
   "source": [
    "for idx_text in range(len(text_complete)):\n",
    "    tfidfValue = tfidfModel[dictionary.doc2bow(text_complete[idx_text])]\n",
    "    tfidfList = fillTFIDF(tfidfValue)\n",
    "    for idx_topic in range(len(topic_select_sent)):\n",
    "        tensor_res[idx_text, idx_topic, :] = topic_term_mapping_transfer[:, idx_topic] * tfidfList"
   ]
  },
  {
   "cell_type": "markdown",
   "metadata": {},
   "source": [
    "### 5 Tensor Decomposition"
   ]
  },
  {
   "cell_type": "code",
   "execution_count": 37,
   "metadata": {
    "scrolled": true
   },
   "outputs": [
    {
     "name": "stderr",
     "output_type": "stream",
     "text": [
      "Using numpy backend.\n"
     ]
    }
   ],
   "source": [
    "from tensorly.decomposition import tucker"
   ]
  },
  {
   "cell_type": "code",
   "execution_count": 38,
   "metadata": {},
   "outputs": [
    {
     "data": {
      "text/plain": [
       "(44, 5, 10493)"
      ]
     },
     "execution_count": 38,
     "metadata": {},
     "output_type": "execute_result"
    }
   ],
   "source": [
    "np.shape(tensor_res)"
   ]
  },
  {
   "cell_type": "code",
   "execution_count": 39,
   "metadata": {},
   "outputs": [
    {
     "data": {
      "text/plain": [
       "53979"
      ]
     },
     "execution_count": 39,
     "metadata": {},
     "output_type": "execute_result"
    }
   ],
   "source": [
    "np.sum(tensor_res > 0)"
   ]
  },
  {
   "cell_type": "code",
   "execution_count": null,
   "metadata": {},
   "outputs": [],
   "source": [
    "import pickle\n",
    "with open('tensor.pickle', 'wb') as f:\n",
    "    pickle.dump(tensor_res, f)"
   ]
  },
  {
   "cell_type": "code",
   "execution_count": null,
   "metadata": {},
   "outputs": [],
   "source": [
    "from scipy.io import savemat\n",
    "savemat('tensor_0_7.mat', {'t_new': tensor_res})"
   ]
  },
  {
   "cell_type": "code",
   "execution_count": 4,
   "metadata": {},
   "outputs": [
    {
     "data": {
      "text/plain": [
       "(44, 5, 10493)"
      ]
     },
     "execution_count": 4,
     "metadata": {},
     "output_type": "execute_result"
    }
   ],
   "source": [
    "from scipy.io import loadmat\n",
    "tensor_res = loadmat('tensor_0_7.mat')['t_new']\n",
    "np.shape(tensor_res)"
   ]
  },
  {
   "cell_type": "code",
   "execution_count": 47,
   "metadata": {},
   "outputs": [],
   "source": [
    "import pickle\n",
    "from tensorly.decomposition import tucker\n",
    "with open('tensor.pickle', 'rb') as f:\n",
    "    tensor_res = pickle.loads(f.read())"
   ]
  },
  {
   "cell_type": "code",
   "execution_count": 49,
   "metadata": {
    "scrolled": true
   },
   "outputs": [
    {
     "data": {
      "text/plain": [
       "(5, 44, 10493)"
      ]
     },
     "execution_count": 49,
     "metadata": {},
     "output_type": "execute_result"
    }
   ],
   "source": [
    "np.shape(tensor_res)"
   ]
  },
  {
   "cell_type": "code",
   "execution_count": 51,
   "metadata": {},
   "outputs": [],
   "source": [
    "topic_terms = np.sum(tensor_res, axis=2)"
   ]
  },
  {
   "cell_type": "code",
   "execution_count": 52,
   "metadata": {},
   "outputs": [
    {
     "data": {
      "text/plain": [
       "(5, 44)"
      ]
     },
     "execution_count": 52,
     "metadata": {},
     "output_type": "execute_result"
    }
   ],
   "source": [
    "np.shape(topic_terms)"
   ]
  },
  {
   "cell_type": "code",
   "execution_count": 55,
   "metadata": {},
   "outputs": [
    {
     "data": {
      "text/plain": [
       "array([2, 3, 3, 2, 2, 2, 2, 2, 2, 2, 0, 4, 0, 4, 3, 4, 0, 1, 1, 0, 1, 1,\n",
       "       0, 2, 2, 2, 1, 3, 2, 2, 3, 3, 3, 3, 3, 3, 3, 3, 2, 2, 1, 3, 2, 2])"
      ]
     },
     "execution_count": 55,
     "metadata": {},
     "output_type": "execute_result"
    }
   ],
   "source": [
    "np.argmax(topic_terms, axis=0)"
   ]
  },
  {
   "cell_type": "code",
   "execution_count": 7,
   "metadata": {},
   "outputs": [],
   "source": [
    "decompose_result = tucker(tensor_res, ranks=[44,1,1])"
   ]
  },
  {
   "cell_type": "code",
   "execution_count": 8,
   "metadata": {},
   "outputs": [
    {
     "data": {
      "text/plain": [
       "(44, 44)"
      ]
     },
     "execution_count": 8,
     "metadata": {},
     "output_type": "execute_result"
    }
   ],
   "source": [
    "np.shape(decompose_result[1][0])"
   ]
  },
  {
   "cell_type": "code",
   "execution_count": 59,
   "metadata": {},
   "outputs": [
    {
     "data": {
      "text/plain": [
       "(44, 1)"
      ]
     },
     "execution_count": 59,
     "metadata": {},
     "output_type": "execute_result"
    }
   ],
   "source": [
    "np.shape(decompose_result[1][1])"
   ]
  },
  {
   "cell_type": "code",
   "execution_count": 60,
   "metadata": {},
   "outputs": [
    {
     "data": {
      "text/plain": [
       "(10493, 1)"
      ]
     },
     "execution_count": 60,
     "metadata": {},
     "output_type": "execute_result"
    }
   ],
   "source": [
    "np.shape(decompose_result[1][2])"
   ]
  },
  {
   "cell_type": "code",
   "execution_count": 83,
   "metadata": {},
   "outputs": [],
   "source": [
    "topic_res = np.reshape(decompose_result[1][0], (5,))\n",
    "doc_res = np.reshape(decompose_result[1][1], (44,))\n",
    "term_res = np.reshape(decompose_result[1][2], (10493,))"
   ]
  },
  {
   "cell_type": "code",
   "execution_count": 78,
   "metadata": {},
   "outputs": [],
   "source": [
    "topic_doc_mapping = np.outer(doc_res, topic_res)"
   ]
  },
  {
   "cell_type": "code",
   "execution_count": 79,
   "metadata": {},
   "outputs": [
    {
     "data": {
      "text/plain": [
       "(44,)"
      ]
     },
     "execution_count": 79,
     "metadata": {},
     "output_type": "execute_result"
    }
   ],
   "source": [
    "np.shape(doc_res)"
   ]
  },
  {
   "cell_type": "code",
   "execution_count": 80,
   "metadata": {},
   "outputs": [
    {
     "data": {
      "text/plain": [
       "(44, 5)"
      ]
     },
     "execution_count": 80,
     "metadata": {},
     "output_type": "execute_result"
    }
   ],
   "source": [
    "np.shape(topic_doc_mapping)"
   ]
  },
  {
   "cell_type": "code",
   "execution_count": 38,
   "metadata": {
    "scrolled": true
   },
   "outputs": [
    {
     "data": {
      "text/plain": [
       "83284"
      ]
     },
     "execution_count": 38,
     "metadata": {},
     "output_type": "execute_result"
    }
   ],
   "source": [
    "np.sum(tensor_res!=0)"
   ]
  },
  {
   "cell_type": "code",
   "execution_count": 7,
   "metadata": {},
   "outputs": [],
   "source": [
    "import tensorly\n",
    "tensorly.default_backend\n",
    "from tensorly import decomposition"
   ]
  },
  {
   "cell_type": "code",
   "execution_count": 11,
   "metadata": {},
   "outputs": [
    {
     "data": {
      "text/plain": [
       "(10, 15, 10000)"
      ]
     },
     "execution_count": 11,
     "metadata": {},
     "output_type": "execute_result"
    }
   ],
   "source": [
    "import numpy as np\n",
    "t = np.random.rand(10,15,10000)\n",
    "np.shape(t)"
   ]
  },
  {
   "cell_type": "code",
   "execution_count": 14,
   "metadata": {
    "scrolled": true
   },
   "outputs": [
    {
     "name": "stdout",
     "output_type": "stream",
     "text": [
      "reconstruction error=0.4859553154914885, variation=4.0963404719818186e-05.\n",
      "reconstruction error=0.48591808501579004, variation=3.7230475698479815e-05.\n",
      "reconstruction error=0.4858842164590394, variation=3.3868556750638046e-05.\n",
      "reconstruction error=0.4858533366930498, variation=3.087976598958875e-05.\n",
      "reconstruction error=0.4858250902126459, variation=2.8246480403892882e-05.\n",
      "reconstruction error=0.4857991543438083, variation=2.5935868837589915e-05.\n",
      "reconstruction error=0.4857752463957338, variation=2.3907948074552987e-05.\n",
      "reconstruction error=0.48575312488309075, variation=2.21215126430252e-05.\n",
      "reconstruction error=0.4857325870411273, variation=2.053784196343056e-05.\n",
      "reconstruction error=0.48571346434495094, variation=1.9122696176376852e-05.\n",
      "reconstruction error=0.4856956172173956, variation=1.7847127555314923e-05.\n",
      "reconstruction error=0.48567892968675985, variation=1.6687530635772774e-05.\n",
      "reconstruction error=0.4856633044468172, variation=1.5625239942640423e-05.\n",
      "reconstruction error=0.4856486585582564, variation=1.4645888560815834e-05.\n",
      "reconstruction error=0.4856349198891825, variation=1.3738669073892762e-05.\n",
      "reconstruction error=0.48562202430130036, variation=1.2895587882144621e-05.\n",
      "reconstruction error=0.485609913531804, variation=1.2110769496365137e-05.\n",
      "reconstruction error=0.4855985336876924, variation=1.1379844111591986e-05.\n",
      "reconstruction error=0.48558783425199836, variation=1.0699435694039305e-05.\n",
      "reconstruction error=0.4855777674956996, variation=1.0066756298776625e-05.\n",
      "reconstruction error=0.48556828819176223, variation=9.479303937354189e-06.\n",
      "reconstruction error=0.4855593535365669, variation=8.93465519535841e-06.\n",
      "reconstruction error=0.4855509231968464, variation=8.430339720477686e-06.\n",
      "reconstruction error=0.48554295941544423, variation=7.963781402164916e-06.\n",
      "reconstruction error=0.4855354271250512, variation=7.532290393019725e-06.\n",
      "reconstruction error=0.4855282940342831, variation=7.133090768107753e-06.\n",
      "reconstruction error=0.4855215306640771, variation=6.76337020599771e-06.\n",
      "reconstruction error=0.4855151103237955, variation=6.4203402815876665e-06.\n",
      "reconstruction error=0.48550900902544386, variation=6.101298351657292e-06.\n",
      "reconstruction error=0.48550320534100727, variation=5.803684436589407e-06.\n",
      "reconstruction error=0.48549768021236084, variation=5.525128646433064e-06.\n",
      "reconstruction error=0.48549241672574195, variation=5.263486618889424e-06.\n",
      "reconstruction error=0.48548739986379325, variation=5.016861948703433e-06.\n",
      "reconstruction error=0.48548261624798317, variation=4.7836158100778015e-06.\n",
      "reconstruction error=0.48547805388310883, variation=4.562364874338698e-06.\n",
      "reconstruction error=0.48547370191387773, variation=4.351969231097819e-06.\n",
      "reconstruction error=0.4854695504014729, variation=4.1515124048485674e-06.\n",
      "reconstruction error=0.48546559012576207, variation=3.9602757108125886e-06.\n",
      "reconstruction error=0.4854618124165909, variation=3.7777091711488353e-06.\n",
      "reconstruction error=0.48545820901554576, variation=3.603401045160215e-06.\n",
      "reconstruction error=0.4854547719677947, variation=3.4370477510758946e-06.\n",
      "reconstruction error=0.48545149354217915, variation=3.2784256155382607e-06.\n",
      "reconstruction error=0.4854483661766715, variation=3.1273655076713425e-06.\n",
      "reconstruction error=0.4854453824456262, variation=2.9837310452918153e-06.\n",
      "reconstruction error=0.4854425350449161, variation=2.847400710104253e-06.\n",
      "reconstruction error=0.48543981679099263, variation=2.7182539234504866e-06.\n",
      "reconstruction error=0.48543722063010375, variation=2.596160888879151e-06.\n",
      "reconstruction error=0.48543473965425843, variation=2.4809758453203656e-06.\n",
      "reconstruction error=0.48543236712099896, variation=2.3725332594648485e-06.\n",
      "reconstruction error=0.48543009647455215, variation=2.2706464468114085e-06.\n",
      "reconstruction error=0.4854279213664721, variation=2.1751080800380684e-06.\n",
      "reconstruction error=0.4854258356743722, variation=2.085692099917935e-06.\n",
      "reconstruction error=0.4854238335178076, variation=2.0021565645955697e-06.\n",
      "reconstruction error=0.4854219092707454, variation=1.9242470621905206e-06.\n",
      "reconstruction error=0.48542005757038126, variation=1.8517003641527197e-06.\n",
      "reconstruction error=0.48541827332230425, variation=1.7842480770080549e-06.\n",
      "reconstruction error=0.48541655170219633, variation=1.7216201079195415e-06.\n",
      "reconstruction error=0.48541488815437545, variation=1.6635478208848475e-06.\n",
      "reconstruction error=0.4854132783875706, variation=1.6097668048553615e-06.\n",
      "reconstruction error=0.48541171836834834, variation=1.560019222246467e-06.\n",
      "reconstruction error=0.48541020431262816, variation=1.5140557201864802e-06.\n",
      "reconstruction error=0.48540873267570184, variation=1.47163692632013e-06.\n",
      "reconstruction error=0.48540730014114025, variation=1.432534561585097e-06.\n",
      "reconstruction error=0.4854059036089435, variation=1.3965321967734923e-06.\n",
      "reconstruction error=0.48540454018323237, variation=1.3634257111094783e-06.\n",
      "reconstruction error=0.4854032071597401, variation=1.333023492255947e-06.\n",
      "reconstruction error=0.4854019020133214, variation=1.3051464187174844e-06.\n",
      "reconstruction error=0.48540062238564385, variation=1.2796276775417503e-06.\n",
      "reconstruction error=0.4853993660732019, variation=1.256312441966223e-06.\n",
      "reconstruction error=0.48539813101574475, variation=1.2350574571384776e-06.\n",
      "reconstruction error=0.4853969152851928, variation=1.215730551951122e-06.\n",
      "reconstruction error=0.48539571707508766, variation=1.1982101051355443e-06.\n",
      "reconstruction error=0.4853945346905974, variation=1.1823844902614233e-06.\n",
      "reconstruction error=0.4853933665390895, variation=1.1681515079131621e-06.\n",
      "reconstruction error=0.48539221112126435, variation=1.155417825138283e-06.\n",
      "reconstruction error=0.48539106702284435, variation=1.1440984200028481e-06.\n",
      "reconstruction error=0.485389932906789, variation=1.1341160553457463e-06.\n",
      "reconstruction error=0.485388807506026, variation=1.1254007630245866e-06.\n",
      "reconstruction error=0.48538768961666645, variation=1.1178893595253925e-06.\n",
      "reconstruction error=0.48538657809168695, variation=1.1115249795023985e-06.\n",
      "reconstruction error=0.4853854718350536, variation=1.1062566333541746e-06.\n",
      "reconstruction error=0.48538436979627575, variation=1.1020387778448715e-06.\n",
      "reconstruction error=0.4853832709653713, variation=1.0988309044335232e-06.\n",
      "reconstruction error=0.48538217436823894, variation=1.0965971323773083e-06.\n",
      "reconstruction error=0.48538107906243194, variation=1.0953058069973487e-06.\n",
      "reconstruction error=0.48537998413334277, variation=1.0949290891737462e-06.\n",
      "reconstruction error=0.485378888690801, variation=1.0954425417875058e-06.\n",
      "reconstruction error=0.48537779186610785, variation=1.0968246931253312e-06.\n",
      "reconstruction error=0.4853766928095266, variation=1.0990565812440956e-06.\n",
      "reconstruction error=0.48537559068826, variation=1.102121266638445e-06.\n",
      "reconstruction error=0.48537448468494476, variation=1.1060033152099358e-06.\n",
      "reconstruction error=0.48537337399671054, variation=1.1106882342182267e-06.\n",
      "reconstruction error=0.48537225783483684, variation=1.1161618737043355e-06.\n",
      "reconstruction error=0.48537113542506044, variation=1.1224097763995466e-06.\n",
      "reconstruction error=0.4853700060085791, variation=1.1294164813380192e-06.\n",
      "reconstruction error=0.4853688688437937, variation=1.137164785391942e-06.\n",
      "reconstruction error=0.4853677232088349, variation=1.1456349587879444e-06.\n",
      "reconstruction error=0.48536656840491155, variation=1.1548039233755247e-06.\n"
     ]
    }
   ],
   "source": [
    "a, b = decomposition.parafac(tensor=t, rank=8, verbose=2, return_errors=1)"
   ]
  },
  {
   "cell_type": "code",
   "execution_count": 131,
   "metadata": {
    "scrolled": true
   },
   "outputs": [
    {
     "data": {
      "text/plain": [
       "[0.8269160706104022,\n",
       " 0.7956067438993916,\n",
       " 0.7927929380366638,\n",
       " 0.7921968471463594,\n",
       " 0.7919448381652281,\n",
       " 0.7918226727587331,\n",
       " 0.7917586136990278,\n",
       " 0.7917221958472505,\n",
       " 0.7916998464486079,\n",
       " 0.7916852265779694,\n",
       " 0.7916751775942977,\n",
       " 0.7916680073596144,\n",
       " 0.7916627442290567,\n",
       " 0.7916587954607478,\n",
       " 0.7916557808247259,\n",
       " 0.7916534462306697,\n",
       " 0.791651616164578,\n",
       " 0.7916501660989234,\n",
       " 0.7916490057522255,\n",
       " 0.7916480685259318,\n",
       " 0.7916473046053221,\n",
       " 0.7916466763139541,\n",
       " 0.7916461549006026,\n",
       " 0.7916457182648812,\n",
       " 0.7916453493154372,\n",
       " 0.7916450347653766,\n",
       " 0.7916447642367661,\n",
       " 0.7916445295878676,\n",
       " 0.7916443244035017,\n",
       " 0.7916441436064691,\n",
       " 0.7916439831597597,\n",
       " 0.7916438398374203,\n",
       " 0.7916437110476827,\n",
       " 0.7916435946960716,\n",
       " 0.7916434890792152,\n",
       " 0.7916433928023098,\n",
       " 0.7916433047148477,\n",
       " 0.7916432238604821,\n",
       " 0.7916431494378388,\n",
       " 0.7916430807698296,\n",
       " 0.7916430172795732,\n",
       " 0.7916429584714505,\n",
       " 0.7916429039161658,\n",
       " 0.7916428532389274,\n",
       " 0.7916428061100651,\n",
       " 0.7916427622375553,\n",
       " 0.7916427213610397,\n",
       " 0.7916426832470135,\n",
       " 0.7916426476849339,\n",
       " 0.7916426144840578,\n",
       " 0.7916425834708508,\n",
       " 0.7916425544868492,\n",
       " 0.7916425273868899,\n",
       " 0.7916425020376208,\n",
       " 0.791642478316248,\n",
       " 0.79164245610947,\n",
       " 0.7916424353125611,\n",
       " 0.7916424158285784,\n",
       " 0.7916423975676716,\n",
       " 0.7916423804464772,\n",
       " 0.7916423643875786,\n",
       " 0.7916423493190322,\n",
       " 0.791642335173934,\n",
       " 0.7916423218900372,\n",
       " 0.7916423094094003,\n",
       " 0.7916422976780723,\n",
       " 0.7916422866457982,\n",
       " 0.7916422762657578,\n",
       " 0.7916422664943203]"
      ]
     },
     "execution_count": 131,
     "metadata": {},
     "output_type": "execute_result"
    }
   ],
   "source": [
    "b"
   ]
  },
  {
   "cell_type": "code",
   "execution_count": 132,
   "metadata": {},
   "outputs": [
    {
     "data": {
      "text/plain": [
       "array([[-1.35033892e+00, -2.76424136e-03, -6.72076213e-03,\n",
       "         1.21484372e-02, -3.72876181e-03],\n",
       "       [-8.33736161e-01, -9.56467681e-03,  5.80754431e-04,\n",
       "         1.06436844e-02,  1.69393424e-01],\n",
       "       [-8.26719391e-01, -8.55019883e-03, -1.49648024e-02,\n",
       "         1.49716073e-02,  1.46198983e-01],\n",
       "       [-1.40566561e+00, -1.14267190e-03, -6.03530572e-03,\n",
       "        -1.33571272e-04,  1.46502609e-02],\n",
       "       [-4.44692191e-01, -4.82951944e-03, -1.30539812e-02,\n",
       "         1.36493010e-02, -4.53775982e-03],\n",
       "       [-1.19452963e+00, -7.48483564e-04, -6.35827992e-03,\n",
       "         8.27069745e-03,  2.06363773e-03],\n",
       "       [-1.86055978e+00, -1.34677592e-03,  3.85696681e-03,\n",
       "         5.70947877e-02,  1.76395618e-02],\n",
       "       [-5.43386115e-01, -1.18432419e-02, -2.26282954e-02,\n",
       "         1.98919801e-02, -7.00115946e-03],\n",
       "       [-1.70727079e+00, -5.98447440e-05, -5.86137995e-03,\n",
       "         1.26653390e-02,  3.56147924e-03],\n",
       "       [-1.62506377e+00,  7.06226709e-04, -3.13360445e-04,\n",
       "         1.78696843e-02,  1.12594201e-02],\n",
       "       [-9.78492990e-03, -1.54472569e-03, -7.62302198e-03,\n",
       "         4.40836809e-03,  4.95387515e-05],\n",
       "       [-2.27621103e-02, -9.10874391e-04, -1.43289287e-02,\n",
       "         1.27681216e-02, -9.97154733e-05],\n",
       "       [-6.26174822e-03, -7.83812897e-04, -4.10691963e-03,\n",
       "         2.58241870e-03,  3.46440634e-04],\n",
       "       [-5.51307053e-03, -5.10318815e-04, -3.95595603e-03,\n",
       "         4.97951365e-03, -2.20584706e-05],\n",
       "       [-1.51448640e-02, -1.10313225e-03, -1.16079118e-02,\n",
       "         1.54960659e-02,  1.48199759e-03],\n",
       "       [-1.70375787e-02,  1.31890027e-04, -3.62985925e-03,\n",
       "         4.78617888e-03, -3.53929936e-04],\n",
       "       [-4.48655664e-03, -9.85733596e-04, -5.58577468e-03,\n",
       "         4.73413449e-03, -2.64130974e-05],\n",
       "       [-4.45714967e-02, -5.14973251e-03, -1.23455685e-02,\n",
       "         3.77783997e-02,  9.60603196e-04],\n",
       "       [-3.46232577e-02, -9.85846502e-03, -2.97196665e-02,\n",
       "         2.26534360e-02,  3.30949950e-04],\n",
       "       [-2.80910543e-02, -2.43135662e-03, -1.09555779e-02,\n",
       "         7.25338776e-03,  1.73298415e-04],\n",
       "       [-1.81781401e-02, -6.90760896e-02, -1.20299520e-02,\n",
       "         4.28506326e-03, -1.75888460e-03],\n",
       "       [-2.71131709e-02, -2.15709313e-01, -5.65340390e-03,\n",
       "         4.01967532e-02, -4.70961072e-03],\n",
       "       [-3.19521752e-02, -1.14193005e-01, -4.37561214e-02,\n",
       "        -1.15399525e-02, -3.83524209e-03],\n",
       "       [-4.05229779e-02, -2.89200405e-01,  5.89474605e-05,\n",
       "         7.66790997e-02, -5.72991772e-03],\n",
       "       [-5.60521347e-02, -1.31193998e-01, -1.12486330e-02,\n",
       "         2.87784297e-02, -2.07263796e-03],\n",
       "       [-3.81457995e-02, -2.65509400e-01, -1.47668696e-02,\n",
       "         2.71736291e-02, -6.71415794e-03],\n",
       "       [-7.38163531e-03, -1.15106347e-01,  2.55935932e-03,\n",
       "         2.31575178e-02, -2.53587134e-03],\n",
       "       [-1.77746277e-03, -1.41945846e-04, -5.73207979e-02,\n",
       "         2.82723815e-04,  8.93895212e-05],\n",
       "       [-8.17948131e-02, -6.92805940e-03, -2.96590400e-01,\n",
       "         2.37240562e-02,  3.30298820e-03],\n",
       "       [-8.17948131e-02, -6.92805940e-03, -2.96590400e-01,\n",
       "         2.37240562e-02,  3.30298820e-03],\n",
       "       [-2.29069807e-02, -1.25386154e-03, -3.05871914e-02,\n",
       "         3.58889440e-03,  2.41519798e-03],\n",
       "       [-1.19806470e-02, -9.83977391e-04, -8.45065556e-02,\n",
       "         3.87787542e-03,  9.58950516e-04],\n",
       "       [-1.18363220e-02, -2.03430739e-03, -3.11264383e-02,\n",
       "         4.57443718e-03,  1.33793453e-03],\n",
       "       [-1.80253146e-02, -2.07249703e-03, -8.12386913e-02,\n",
       "         4.16132895e-03,  9.52041093e-04],\n",
       "       [-6.55433552e-03, -1.88902712e-04, -6.11992602e-02,\n",
       "         1.77697122e-03,  1.97030297e-03],\n",
       "       [-1.49729123e-02, -1.95234577e-03, -1.50742893e-02,\n",
       "         5.91422594e-03,  2.76833923e-04],\n",
       "       [-1.35973938e-02, -1.17858873e-03, -6.83205783e-02,\n",
       "         4.02545581e-03,  6.50667490e-04],\n",
       "       [-6.29200088e-03,  1.60505459e-04, -7.82713861e-02,\n",
       "         2.45466822e-04,  1.22652305e-04],\n",
       "       [-2.24502371e-01, -6.53143221e-03, -6.85426752e-04,\n",
       "         1.64608422e-01,  1.21496910e-03],\n",
       "       [-3.92214460e-02, -4.25221706e-03, -7.97622658e-03,\n",
       "         3.15143107e-02,  1.20685148e-03],\n",
       "       [-6.54002704e-02,  2.84459792e-03, -1.14989293e-02,\n",
       "         2.04655984e-01, -4.76699523e-04],\n",
       "       [-6.13459881e-02, -6.16659502e-03, -2.41426924e-02,\n",
       "         4.76338580e-02,  1.09242238e-03],\n",
       "       [-1.56149948e-01, -1.22636052e-02, -1.79994461e-02,\n",
       "         2.00316707e-01,  1.66276316e-03],\n",
       "       [-9.52326944e-02, -5.91301252e-02, -1.07796953e-02,\n",
       "         1.52719638e-01,  6.80254264e-04]])"
      ]
     },
     "execution_count": 132,
     "metadata": {},
     "output_type": "execute_result"
    }
   ],
   "source": [
    "a[0]"
   ]
  },
  {
   "cell_type": "code",
   "execution_count": 133,
   "metadata": {},
   "outputs": [
    {
     "data": {
      "text/plain": [
       "array([3, 4, 4, 4, 3, 3, 3, 3, 3, 3, 3, 3, 3, 3, 3, 3, 3, 3, 3, 3, 3, 3,\n",
       "       4, 3, 3, 3, 3, 3, 3, 3, 3, 3, 3, 3, 4, 3, 3, 3, 3, 3, 3, 3, 3, 3])"
      ]
     },
     "execution_count": 133,
     "metadata": {},
     "output_type": "execute_result"
    }
   ],
   "source": [
    "np.argmax(a[0], axis=1)"
   ]
  },
  {
   "cell_type": "code",
   "execution_count": 123,
   "metadata": {},
   "outputs": [
    {
     "data": {
      "text/plain": [
       "array([1, 3, 3, 1, 1, 1, 1, 1, 1, 1, 4, 0, 4, 0, 0, 0, 0, 0, 4, 4, 3, 3,\n",
       "       3, 3, 3, 3, 3, 4, 4, 4, 4, 4, 4, 4, 4, 4, 4, 4, 0, 0, 0, 0, 0, 0])"
      ]
     },
     "execution_count": 123,
     "metadata": {},
     "output_type": "execute_result"
    }
   ],
   "source": [
    "np.argmax(a[0], axis=1)"
   ]
  },
  {
   "cell_type": "code",
   "execution_count": 86,
   "metadata": {},
   "outputs": [
    {
     "data": {
      "text/plain": [
       "2308460"
      ]
     },
     "execution_count": 86,
     "metadata": {},
     "output_type": "execute_result"
    }
   ],
   "source": [
    "np.sum(tensor_res > 0) + np.sum(tensor_res == 0)"
   ]
  },
  {
   "cell_type": "code",
   "execution_count": null,
   "metadata": {},
   "outputs": [],
   "source": []
  }
 ],
 "metadata": {
  "kernelspec": {
   "display_name": "Python 3",
   "language": "python",
   "name": "python3"
  },
  "language_info": {
   "codemirror_mode": {
    "name": "ipython",
    "version": 3
   },
   "file_extension": ".py",
   "mimetype": "text/x-python",
   "name": "python",
   "nbconvert_exporter": "python",
   "pygments_lexer": "ipython3",
   "version": "3.6.7"
  }
 },
 "nbformat": 4,
 "nbformat_minor": 2
}
